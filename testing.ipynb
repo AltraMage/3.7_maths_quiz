{
 "cells": [
  {
   "cell_type": "code",
   "execution_count": 2,
   "metadata": {},
   "outputs": [
    {
     "name": "stdout",
     "output_type": "stream",
     "text": [
      "You messed up, unsupported operand type(s) for +=: 'int' and 'str'\n"
     ]
    }
   ],
   "source": [
    "x = 2\n",
    "try:\n",
    "    x += \"Loser\"\n",
    "except Exception as e:\n",
    "    print(f\"You messed up, {e}\")"
   ]
  },
  {
   "cell_type": "code",
   "execution_count": 9,
   "metadata": {},
   "outputs": [
    {
     "name": "stdout",
     "output_type": "stream",
     "text": [
      "a + b=5\n",
      "Made by: Logan\n"
     ]
    }
   ],
   "source": [
    "a, b = 1, 4\n",
    "\n",
    "print(f\"{a + b=}\")\n",
    "\n",
    "__author__ = \"Logan Tyler Simonsen\"\n",
    "print(f\"Made by: {__author__.split(\" \")[-0]}\")"
   ]
  },
  {
   "cell_type": "code",
   "execution_count": 6,
   "metadata": {},
   "outputs": [
    {
     "name": "stdout",
     "output_type": "stream",
     "text": [
      "3+5-5/8 = 7.0\n",
      "3-5/8+5 = 7.0\n",
      "3+5-5/8 = 7.0\n",
      "3-5/8+5 = 7.0\n",
      "3/8*5+5 = 7.0\n",
      "3/8*5+5 = 7.0\n",
      "5+3-5/8 = 7.0\n",
      "5+3/8*5 = 7.0\n",
      "5+5*3/8 = 7.0\n",
      "5+5-8/3 = 7.0\n",
      "5-8/3+5 = 7.0\n",
      "5+3-5/8 = 7.0\n",
      "5+3/8*5 = 7.0\n",
      "5+5*3/8 = 7.0\n",
      "5+5-8/3 = 7.0\n",
      "5-8/3+5 = 7.0\n"
     ]
    }
   ],
   "source": [
    "# Mrs Johnson's puzzle thingys\n",
    "from itertools import permutations, product\n",
    "\n",
    "operators = [\"+\", \"-\", \"/\", \"*\"]\n",
    "numbers = [3, 5, 5, 8]\n",
    "goal = 7.0\n",
    "\n",
    "possible_solutions: list[str] = []\n",
    "\n",
    "for nums_perm in permutations(numbers):\n",
    "    for ops_combo in product(operators, repeat=len(numbers)-1):\n",
    "        expression = \"\"\n",
    "        for i in range(len(nums_perm)):\n",
    "            expression += str(nums_perm[i])\n",
    "            if i < len(ops_combo):\n",
    "                expression += ops_combo[i]\n",
    "        try:\n",
    "            # print(f\"{eval(expression)}{eval(expression) == goal=}\")\n",
    "            answer = eval(expression)\n",
    "            # if str(answer)[:-1] == '0':\n",
    "            #     answer = round(answer, 0)\n",
    "            if round(answer) == float(goal):\n",
    "                print(f\"{expression} = {goal}\")\n",
    "                possible_solutions.append(expression)\n",
    "                break\n",
    "        except ZeroDivisionError:\n",
    "            pass\n"
   ]
  }
 ],
 "metadata": {
  "kernelspec": {
   "display_name": "Python 3",
   "language": "python",
   "name": "python3"
  },
  "language_info": {
   "codemirror_mode": {
    "name": "ipython",
    "version": 3
   },
   "file_extension": ".py",
   "mimetype": "text/x-python",
   "name": "python",
   "nbconvert_exporter": "python",
   "pygments_lexer": "ipython3",
   "version": "3.12.2"
  }
 },
 "nbformat": 4,
 "nbformat_minor": 2
}
