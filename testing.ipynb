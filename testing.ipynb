{
 "cells": [
  {
   "cell_type": "code",
   "execution_count": 2,
   "metadata": {},
   "outputs": [
    {
     "name": "stdout",
     "output_type": "stream",
     "text": [
      "You messed up, unsupported operand type(s) for +=: 'int' and 'str'\n"
     ]
    }
   ],
   "source": [
    "x = 2\n",
    "try:\n",
    "    x += \"Loser\"\n",
    "except Exception as e:\n",
    "    print(f\"You messed up, {e}\")"
   ]
  },
  {
   "cell_type": "code",
   "execution_count": 9,
   "metadata": {},
   "outputs": [
    {
     "name": "stdout",
     "output_type": "stream",
     "text": [
      "a + b=5\n",
      "Made by: Logan\n"
     ]
    }
   ],
   "source": [
    "a, b = 1, 4\n",
    "\n",
    "print(f\"{a + b=}\")\n",
    "\n",
    "__author__ = \"Logan Tyler Simonsen\"\n",
    "print(f\"Made by: {__author__.split(\" \")[-0]}\")"
   ]
  },
  {
   "cell_type": "code",
   "execution_count": null,
   "metadata": {},
   "outputs": [],
   "source": [
    "# Mrs Johnson's puzzle thingys\n",
    "from random import choice, shuffle\n",
    "\n",
    "operators: list[str] = [\"+\", \"-\", \"/\", \"*\"]\n",
    "numbers: list[int] = [3, 5, 5, 8]\n",
    "goal: int = 7\n",
    "\n",
    "attempt: str = \"\"\n",
    "\n",
    "for n in numbers:\n",
    "    attempt = \n",
    "\n",
    "print(f\"{attempt}={eval(attempt)}\")"
   ]
  }
 ],
 "metadata": {
  "kernelspec": {
   "display_name": "Python 3",
   "language": "python",
   "name": "python3"
  },
  "language_info": {
   "codemirror_mode": {
    "name": "ipython",
    "version": 3
   },
   "file_extension": ".py",
   "mimetype": "text/x-python",
   "name": "python",
   "nbconvert_exporter": "python",
   "pygments_lexer": "ipython3",
   "version": "3.12.2"
  }
 },
 "nbformat": 4,
 "nbformat_minor": 2
}
